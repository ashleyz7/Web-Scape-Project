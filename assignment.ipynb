{
 "cells": [
  {
   "cell_type": "markdown",
   "metadata": {},
   "source": [
    "# A1: Web Scraping"
   ]
  },
  {
   "cell_type": "markdown",
   "metadata": {},
   "source": [
    "In this assignment, you will scrape the [UW Time Schedule](https://www.washington.edu/students/timeschd/WIN2019/) to compute information about the course offerings in the current quarter."
   ]
  },
  {
   "cell_type": "markdown",
   "metadata": {},
   "source": [
    "## Identifying Departments\n",
    "In this section, you will identify the link to each department or deree program from the time schedule. You will later use these to identify the courses offered by each program."
   ]
  },
  {
   "cell_type": "code",
   "execution_count": 2,
   "metadata": {},
   "outputs": [],
   "source": [
    "# Import libraries you would like to use\n",
    "import requests as r\n",
    "import pandas as pd\n",
    "import numpy as np\n",
    "import matplotlib.pyplot as plt\n",
    "from bs4 import BeautifulSoup as bs, SoupStrainer as ss\n"
   ]
  },
  {
   "cell_type": "code",
   "execution_count": 141,
   "metadata": {},
   "outputs": [],
   "source": [
    "# Using beautiful soup, identify the links to each program on the time schedule page\n",
    "a = []\n",
    "allPrograms = []\n",
    "page = r.get(\"http://www.washington.edu/students/timeschd/WIN2019/\")\n",
    "thisPage = bs(page.content, 'html.parser')\n",
    "programs = thisPage.select('li a ')[:len(thisPage.select('ul li a '))-16]\n",
    "for p in programs:\n",
    "        a.append(p.get('href'))\n",
    "a = set(a)\n",
    "for pro in a:\n",
    "    if pro != None:\n",
    "        if pro.startswith('#') == False:\n",
    "            if pro.startswith('/') == False:\n",
    "                if pro.startswith('http') == False:\n",
    "                    allPrograms.append(pro)\n",
    "\n",
    "\n",
    "\n",
    "\n"
   ]
  },
  {
   "cell_type": "markdown",
   "metadata": {},
   "source": [
    "## Scrape Course Information for Each Program\n",
    "In this section, you will iterate through each program's time schedule page (identified in the previous section). For each program's page, you will collect information about each course offered."
   ]
  },
  {
   "cell_type": "code",
   "execution_count": 142,
   "metadata": {},
   "outputs": [],
   "source": [
    "# For each degree program, scrape the following information for each course:\n",
    "# - Department (e.g., \"BIOL\", \"SOC\")\n",
    "# - Course Number (e.g., \"370\", \"371\")\n",
    "# - Course Title (e.g., \"DATA SCIENCE METHDS\", \"ADV DATA SCI METHDS\")\n",
    "# Store the resulting data in a Pandas data frame\n",
    "department = []\n",
    "number = []\n",
    "title = []\n",
    "allCourses = []\n",
    "for x in allPrograms:\n",
    "            coursePage = r.get(\"http://www.washington.edu/students/timeschd/WIN2019/\" + x)\n",
    "            thisCourse = bs(coursePage.content, 'html.parser')\n",
    "            course = thisCourse.select('table b a')[11:]\n",
    "            for c in course:\n",
    "                allCourses.append(c.text)\n",
    "# put department, course number, course title into different collections\n",
    "for i, c in enumerate (allCourses):\n",
    "    if (i % 2 != 0):\n",
    "        title.append(c)\n",
    "    else:\n",
    "        number.append(int(c[len(c)-4 :len(c) - 1]))\n",
    "        department.append(c[0:c.find('\\xa0\\xa0')])\n",
    "\n",
    "courseInfo = pd.DataFrame ({\n",
    "    'department': department,\n",
    "    'title': title,\n",
    "    'number': number\n",
    "})\n",
    "\n",
    "\n",
    "\n",
    "\n",
    "        "
   ]
  },
  {
   "cell_type": "code",
   "execution_count": 143,
   "metadata": {},
   "outputs": [],
   "source": [
    "# Write the dataframe to a .csv file in this directory (make sure to exclude row numbers)\n",
    "courseInfo.to_csv(\"courseInfo.csv\", index = False)"
   ]
  },
  {
   "cell_type": "markdown",
   "metadata": {},
   "source": [
    "##  Summary Statistics\n",
    "In this section, you will use the dataframe of courses to answer questions about the courses offered. Unless otherwise stated, feel free to simply print out a number that answers a given question. "
   ]
  },
  {
   "cell_type": "code",
   "execution_count": 144,
   "metadata": {},
   "outputs": [
    {
     "name": "stdout",
     "output_type": "stream",
     "text": [
      "4550\n"
     ]
    }
   ],
   "source": [
    "# How many total courses are offered this quarter at UW?\n",
    "totalCourse = courseInfo.shape[0]\n",
    "print(totalCourse)\n"
   ]
  },
  {
   "cell_type": "code",
   "execution_count": 145,
   "metadata": {},
   "outputs": [
    {
     "name": "stdout",
     "output_type": "stream",
     "text": [
      "286\n"
     ]
    }
   ],
   "source": [
    "# How many different departments are there on the time schedule?\n",
    "totalDepart = len(courseInfo.groupby(department).department)\n",
    "print(totalDepart)\n",
    "\n"
   ]
  },
  {
   "cell_type": "code",
   "execution_count": 146,
   "metadata": {},
   "outputs": [
    {
     "name": "stdout",
     "output_type": "stream",
     "text": [
      "The department with the fewest courses is ACADEM, ARTSCI, BA RM, BCMS, C ENV, COPTIC, DPHS, HPS, HSMGMT, HSTLAC, HUBIO, IECMH, INDIV, LEAD, LIT, MARBIO, N&MES, PHRMRA, PROS, ROMN, SLVN, STSS, UKR, VALUES, offering 1 courses.\n"
     ]
    }
   ],
   "source": [
    "# Which department offers the fewest courses, and how many courses does it offer?\n",
    "# Print out the sentence: \"The department with the fewest courses is ____, offering ___ courses.\"\n",
    "\n",
    "minNum = courseInfo.groupby(department).department.count().min()\n",
    "# find all the number of courses provided by each department\n",
    "a = courseInfo.groupby(department).department.count()\n",
    "# find the departmetn with the fewest course \n",
    "minName = a[a == minNum]\n",
    "minNameList = list(minName.index)\n",
    "# a = courseInfo.groupby(department).count()\n",
    "# minName = a.loc[a.number == minNum]\n",
    "# minName = a[a['number'] == maxNum]\n",
    "print(\"The department with the fewest courses is \"  + \", \".join(minNameList) +  \", offering \" + str(minNum) + \" courses.\")\n",
    "\n",
    "\n",
    "\n"
   ]
  },
  {
   "cell_type": "code",
   "execution_count": 147,
   "metadata": {},
   "outputs": [
    {
     "name": "stdout",
     "output_type": "stream",
     "text": [
      "The department with the most courses is MUSICP, offering 139 courses.\n"
     ]
    }
   ],
   "source": [
    "# Which department has the most courses, and how many courses does it offer?\n",
    "# Print out the sentence: \"The department with the most courses is ____, offering ___ courses.\"\n",
    "\n",
    "maxNum = courseInfo.groupby(department).department.count().max()\n",
    "# find all the number of courses provided by each department\n",
    "b = courseInfo.groupby(department).department.count()\n",
    "# find the department with the most course \n",
    "maxName = b[b == maxNum]\n",
    "maxNameList = list(maxName.index)\n",
    "print(\"The department with the most courses is \"  + \"\".join(maxNameList) +  \", offering \" + str(maxNum) + \" courses.\")\n"
   ]
  },
  {
   "cell_type": "code",
   "execution_count": 148,
   "metadata": {},
   "outputs": [
    {
     "data": {
      "text/plain": [
       "15.909090909090908"
      ]
     },
     "execution_count": 148,
     "metadata": {},
     "output_type": "execute_result"
    }
   ],
   "source": [
    "# What is the average number of courses offered by each department?\n",
    "totalCourse/totalDepart"
   ]
  },
  {
   "cell_type": "code",
   "execution_count": 149,
   "metadata": {},
   "outputs": [
    {
     "data": {
      "text/plain": [
       "204"
      ]
     },
     "execution_count": 149,
     "metadata": {},
     "output_type": "execute_result"
    }
   ],
   "source": [
    "# How many 100 level courses are offered next quarter?\n",
    "len(courseInfo[courseInfo['number'] < 200])"
   ]
  },
  {
   "cell_type": "code",
   "execution_count": 150,
   "metadata": {},
   "outputs": [
    {
     "data": {
      "text/plain": [
       "'N&MES'"
      ]
     },
     "execution_count": 150,
     "metadata": {},
     "output_type": "execute_result"
    }
   ],
   "source": [
    "# Which departments offer the hardest courses (as assessed by average course number)?\n",
    "averageList = courseInfo.groupby(department).number.mean()\n",
    "hardest = averageList[averageList == averageList.max()]\n",
    "\"\".join(list(hardest.index))"
   ]
  },
  {
   "cell_type": "markdown",
   "metadata": {},
   "source": [
    "## Data Visualization\n",
    "In this section, you will use visualization techniques to answer questions of interest. Make sure to include clear axis labels and chart titles for each graph."
   ]
  },
  {
   "cell_type": "code",
   "execution_count": 151,
   "metadata": {
    "scrolled": true
   },
   "outputs": [
    {
     "data": {
      "text/plain": [
       "Text(0.5, 1.0, 'Top 10 Departments offering most number of courses')"
      ]
     },
     "execution_count": 151,
     "metadata": {},
     "output_type": "execute_result"
    },
    {
     "data": {
      "image/png": "[encoded data removed]",
      "text/plain": [
       "<Figure size 432x288 with 1 Axes>"
      ]
     },
     "metadata": {
      "needs_background": "light"
     },
     "output_type": "display_data"
    }
   ],
   "source": [
    "# Which departments offer the highest number of courses?\n",
    "# Use a horizontal bar chart of the 10 departments with the highest number of courses to answer this question\n",
    "numCourses = courseInfo.groupby(department).title.count()\n",
    "data = numCourses.nlargest(10)\n",
    "# plt.hist(row = list(data.index), column = data.values, bins = 10)\n",
    "# data.plot(kind='bar')\n",
    "plt.barh(data.index, data.values)\n",
    "plt.ylabel(\"Departments\")\n",
    "plt.xlabel(\"Number of Courses\")\n",
    "plt.title(\"Top 10 Departments offering most number of courses\")\n"
   ]
  },
  {
   "cell_type": "code",
   "execution_count": 152,
   "metadata": {},
   "outputs": [
    {
     "data": {
      "text/plain": [
       "Text(0.5, 1.0, 'Top 10 Departments offering hardest courses')"
      ]
     },
     "execution_count": 152,
     "metadata": {},
     "output_type": "execute_result"
    },
    {
     "data": {
      "image/png": "[encoded data removed]",
      "text/plain": [
       "<Figure size 432x288 with 1 Axes>"
      ]
     },
     "metadata": {
      "needs_background": "light"
     },
     "output_type": "display_data"
    }
   ],
   "source": [
    "# Which departments offer the hardest courses?\n",
    "# Use a horizontal bar chart of the 10 departments with the highest average course number to answer this question\n",
    "thisData = averageList.nlargest(10)\n",
    "plt.barh(thisData.index, thisData.values)\n",
    "plt.ylabel(\"Departments\")\n",
    "plt.xlabel(\"Courses level\")\n",
    "plt.title(\"Top 10 Departments offering hardest courses\")\n",
    "\n"
   ]
  },
  {
   "cell_type": "code",
   "execution_count": 153,
   "metadata": {},
   "outputs": [
    {
     "data": {
      "text/plain": [
       "Text(0.5, 1.0, 'Relationship Between the Number of Courses and the Difficulty')"
      ]
     },
     "execution_count": 153,
     "metadata": {},
     "output_type": "execute_result"
    },
    {
     "data": {
      "image/png": "[encoded data removed]",
      "text/plain": [
       "<Figure size 432x288 with 1 Axes>"
      ]
     },
     "metadata": {
      "needs_background": "light"
     },
     "output_type": "display_data"
    }
   ],
   "source": [
    "# What is the relationship between the number of courses offered and the difficulty?\n",
    "# Use a scatter plot of number of courses v.s. average course difficult to assess this relationship\n",
    "plt.scatter(numCourses, averageList, alpha = 0.5)\n",
    "plt.xlabel('Number of Courses')\n",
    "plt.ylabel('Average Course Difficulty')\n",
    "plt.title('Relationship Between the Number of Courses and the Difficulty')"
   ]
  },
  {
   "cell_type": "markdown",
   "metadata": {},
   "source": [
    "_I feel like the middle level difficulty tend to have the most courses offered, and the easiest and hardest difficulty tend to have the least amount of courses_"
   ]
  },
  {
   "cell_type": "code",
   "execution_count": 154,
   "metadata": {},
   "outputs": [
    {
     "data": {
      "text/plain": [
       "Text(0.5, 1.0, 'Number of Courses falls into different levels')"
      ]
     },
     "execution_count": 154,
     "metadata": {},
     "output_type": "execute_result"
    },
    {
     "data": {
      "image/png": "[encoded data removed]",
      "text/plain": [
       "<Figure size 432x288 with 1 Axes>"
      ]
     },
     "metadata": {
      "needs_background": "light"
     },
     "output_type": "display_data"
    }
   ],
   "source": [
    "# How many courses fall into each level (100, 200, etc?)?\n",
    "# Use a horizontal bar chart of the number of courses of each level to answer this questions\n",
    "courseLevel = ['100 level', '200 level', '300 level', '400 level', '500 level', '600 level', '700 level', '800 level']\n",
    "levelNum = [len(courseInfo[courseInfo['number'] < 200]),\n",
    "           len(courseInfo[courseInfo['number'] < 300]) - len(courseInfo[courseInfo['number'] < 200]),\n",
    "           len(courseInfo[courseInfo['number'] < 400]) - len(courseInfo[courseInfo['number'] < 300]),\n",
    "           len(courseInfo[courseInfo['number'] < 500]) - len(courseInfo[courseInfo['number'] < 400]),\n",
    "           len(courseInfo[courseInfo['number'] < 600]) - len(courseInfo[courseInfo['number'] < 500]),\n",
    "           len(courseInfo[courseInfo['number'] < 700]) - len(courseInfo[courseInfo['number'] < 600]),\n",
    "           len(courseInfo[courseInfo['number'] < 800]) - len(courseInfo[courseInfo['number'] < 700]),\n",
    "           len(courseInfo[courseInfo['number'] < 900]) - len(courseInfo[courseInfo['number'] < 800])]\n",
    "levelInfo = pd.Series(levelNum, index = courseLevel)\n",
    "plt.barh(levelInfo.index, levelInfo.values)\n",
    "plt.xlabel('Number of Courses')\n",
    "plt.ylabel('Course Level')\n",
    "plt.title('Number of Courses falls into different levels')"
   ]
  },
  {
   "cell_type": "markdown",
   "metadata": {},
   "source": [
    "_I am surprised that the highest course level that UW provides is 800, and MUSICP department offers way more courses than other departments._"
   ]
  },
  {
   "cell_type": "code",
   "execution_count": null,
   "metadata": {},
   "outputs": [],
   "source": []
  }
 ],
 "metadata": {
  "kernelspec": {
   "display_name": "Python 3",
   "language": "python",
   "name": "python3"
  },
  "language_info": {
   "codemirror_mode": {
    "name": "ipython",
    "version": 3
   },
   "file_extension": ".py",
   "mimetype": "text/x-python",
   "name": "python",
   "nbconvert_exporter": "python",
   "pygments_lexer": "ipython3",
   "version": "3.7.1"
  }
 },
 "nbformat": 4,
 "nbformat_minor": 2
}
